{
  "nbformat": 4,
  "nbformat_minor": 0,
  "metadata": {
    "colab": {
      "name": "task0.ipynb",
      "provenance": [],
      "include_colab_link": true
    },
    "kernelspec": {
      "name": "python3",
      "display_name": "Python 3"
    },
    "language_info": {
      "name": "python"
    }
  },
  "cells": [
    {
      "cell_type": "markdown",
      "metadata": {
        "id": "view-in-github",
        "colab_type": "text"
      },
      "source": [
        "<a href=\"https://colab.research.google.com/github/DemonIncarnate/robocon-task-0/blob/main/task0.ipynb\" target=\"_parent\"><img src=\"https://colab.research.google.com/assets/colab-badge.svg\" alt=\"Open In Colab\"/></a>"
      ]
    },
    {
      "cell_type": "markdown",
      "metadata": {
        "id": "WGeFahJserTh"
      },
      "source": [
        "Q1"
      ]
    },
    {
      "cell_type": "code",
      "metadata": {
        "id": "Zbx-Ip3mdcpb"
      },
      "source": [
        "str = input()\n",
        "x = 0\n",
        "while str and x!=-1:\n",
        "  x=str.find(\"bot\")\n",
        "  str=str[:x] + str[x+3: ]\n",
        "if str==\"\":\n",
        "  print(\"Yes/true\")\n",
        "else:\n",
        "  print(\"No/false\")\n"
      ],
      "execution_count": null,
      "outputs": []
    },
    {
      "cell_type": "markdown",
      "metadata": {
        "id": "96DZ25O7ewkg"
      },
      "source": [
        "Q4"
      ]
    },
    {
      "cell_type": "code",
      "metadata": {
        "id": "X3OusL7H2hiW"
      },
      "source": [
        "def rev(num):\n",
        "  rev_num = 0\n",
        "  while(num>0):\n",
        "    a = num%10\n",
        "    rev_num = rev_num*10 + a\n",
        "    num = num // 10\n",
        "  return rev_num\n",
        "\n",
        "\n",
        "N = int(input(\"please provide the no. of entries\"))\n",
        "\n",
        "arr = []\n",
        "arr1= []\n",
        "for i in range(0,2*N):\n",
        "  l = int(input(\"enter values\"))\n",
        "  arr.append(l)\n",
        "\n",
        "for i in range(0,2*N):\n",
        "  l = rev(arr[i])\n",
        "  arr1.append(l)\n",
        "\n",
        "for i in range(0,2*N-1,2):\n",
        "  l = arr1[i] + arr1[i+1]\n",
        "  x = rev(l)\n",
        "  print(x)"
      ],
      "execution_count": null,
      "outputs": []
    },
    {
      "cell_type": "markdown",
      "metadata": {
        "id": "758saEUbe10Y"
      },
      "source": [
        "Q2"
      ]
    },
    {
      "cell_type": "code",
      "metadata": {
        "id": "WvIR-6U3ISPC"
      },
      "source": [
        "import math\n",
        "\n",
        "def is_prime(n):\n",
        "    if n % 2 == 0:\n",
        "        return False\n",
        "    else:\n",
        "        for i in range(3, int(n**0.5+1),2):\n",
        "            if n % i == 0:\n",
        "                return False\n",
        "        return True\n",
        "n = 3\n",
        "primes = []\n",
        "x =2\n",
        "primes.append(x)\n",
        "arr = []\n",
        "\n",
        "while(n < 35):\n",
        "    if is_prime(n):\n",
        "        primes.append(n)\n",
        "    else:\n",
        "        for i in primes:\n",
        "            if math.sqrt(((n-i)/2)) == int(math.sqrt(((n-i)/2))):\n",
        "              arr.append((n,i,int(math.sqrt(((n-i)/2)))))\n",
        "              break\n",
        "        else:\n",
        "            print(n)\n",
        "            break\n",
        "\n",
        "    n += 2\n",
        "print(arr)"
      ],
      "execution_count": null,
      "outputs": []
    },
    {
      "cell_type": "markdown",
      "metadata": {
        "id": "xMTj5QkysDXm"
      },
      "source": [
        "Q3"
      ]
    },
    {
      "cell_type": "code",
      "metadata": {
        "id": "KLOq3U-2pdB3"
      },
      "source": [
        "from string import ascii_lowercase as abcd\n",
        "n=int(input())\n",
        "str=input()\n",
        "str1=[i for i in str.split()]\n",
        "\n",
        "a=97\n",
        "x = 0\n",
        "y=True\n",
        "for x in range(n//2):\n",
        "    if str1[x]==str1[n-x-1]:\n",
        "         pass\n",
        "    else:\n",
        "        print(\"false\")\n",
        "        y=False\n",
        "        break\n",
        "if y:\n",
        "    for x in range (n//2-1):\n",
        "        if str1[x+1]==str1[x] or str1[x+1]==chr(ord(str1[x])+1):\n",
        "            pass\n",
        "        else:\n",
        "            print (\"false\")\n",
        "            y=False\n",
        "\n",
        "if y:\n",
        "    print(\"true\")\n",
        "  "
      ],
      "execution_count": null,
      "outputs": []
    }
  ]
}